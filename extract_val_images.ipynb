{
 "metadata": {
  "language_info": {
   "codemirror_mode": {
    "name": "ipython",
    "version": 3
   },
   "file_extension": ".py",
   "mimetype": "text/x-python",
   "name": "python",
   "nbconvert_exporter": "python",
   "pygments_lexer": "ipython3",
   "version": "3.8.5-final"
  },
  "orig_nbformat": 2,
  "kernelspec": {
   "name": "python3",
   "display_name": "Python 3",
   "language": "python"
  }
 },
 "nbformat": 4,
 "nbformat_minor": 2,
 "cells": [
  {
   "source": [
    "# Extract Image by Levels"
   ],
   "cell_type": "markdown",
   "metadata": {}
  },
  {
   "source": [
    "## Load Image Information"
   ],
   "cell_type": "markdown",
   "metadata": {}
  },
  {
   "cell_type": "code",
   "execution_count": 219,
   "metadata": {},
   "outputs": [],
   "source": [
    "import os\n",
    "from scipy.io import loadmat\n",
    "\n",
    "gt_dir = './widerface_evaluate/ground_truth'\n",
    "\n",
    "hard_mat = loadmat(os.path.join(gt_dir, 'wider_hard_val.mat'))\n",
    "medium_mat = loadmat(os.path.join(gt_dir, 'wider_medium_val.mat'))\n",
    "easy_mat = loadmat(os.path.join(gt_dir, 'wider_easy_val.mat'))\n",
    "\n",
    "hard_gt_list = hard_mat['gt_list']\n",
    "medium_gt_list = medium_mat['gt_list']\n",
    "easy_gt_list = easy_mat['gt_list']"
   ]
  },
  {
   "cell_type": "code",
   "execution_count": 220,
   "metadata": {},
   "outputs": [],
   "source": [
    "gt_mat = loadmat(os.path.join(gt_dir, 'wider_face_val.mat'))\n",
    "event_list = gt_mat['event_list']\n",
    "file_list = gt_mat['file_list']"
   ]
  },
  {
   "source": [
    "## Extract Image Paths by Levels"
   ],
   "cell_type": "markdown",
   "metadata": {}
  },
  {
   "cell_type": "code",
   "execution_count": 235,
   "metadata": {
    "tags": []
   },
   "outputs": [
    {
     "output_type": "stream",
     "name": "stderr",
     "text": [
      "100%|██████████| 61/61 [00:00<00:00, 8768.08it/s]\n",
      "100%|██████████| 61/61 [00:00<00:00, 7891.81it/s]\n",
      "100%|██████████| 61/61 [00:00<00:00, 6123.80it/s]\n"
     ]
    },
    {
     "output_type": "execute_result",
     "data": {
      "text/plain": [
       "(2604, 3019, 3219)"
      ]
     },
     "metadata": {},
     "execution_count": 235
    }
   ],
   "source": [
    "from collections import defaultdict\n",
    "import tqdm\n",
    "\n",
    "EASY, MEDIUM, HARD = 0, 1, 2\n",
    "IMAGE_LEVEL = (EASY, MEDIUM, HARD)\n",
    "\n",
    "setting_gts = [easy_gt_list, medium_gt_list, hard_gt_list]\n",
    "img_paths = defaultdict(list)\n",
    "for img_level in IMAGE_LEVEL:\n",
    "    gt_list = setting_gts[img_level]\n",
    "    for i in tqdm.tqdm(range(len(event_list))):\n",
    "        img_dir = f'./data/widerface/val/images/{event_list[i][0][0]}'\n",
    "        img_list = file_list[i][0].flatten()\n",
    "        sub_gt_list = gt_list[i][0]\n",
    "        count = 0\n",
    "        for j, img_name in enumerate(img_list):\n",
    "            if len(sub_gt_list[j][0]) != 0:\n",
    "                count += 1\n",
    "                img_paths[img_level].append(f'{img_dir}/{img_name[0]}.jpg')\n",
    "\n",
    "# 이상하네 HARD에서 이미지 몇 개가 빠지는 군...\n",
    "len(img_paths[EASY]), len(img_paths[MEDIUM]),len(img_paths[HARD])"
   ]
  },
  {
   "cell_type": "code",
   "execution_count": 248,
   "metadata": {},
   "outputs": [
    {
     "output_type": "execute_result",
     "data": {
      "text/plain": [
       "(2604, 415, 200)"
      ]
     },
     "metadata": {},
     "execution_count": 248
    }
   ],
   "source": [
    "temp_img_paths_for_hard = set(img_paths[HARD]) - set(img_paths[MEDIUM]) - set(img_paths[EASY])\n",
    "temp_img_paths_for_medium = set(img_paths[MEDIUM]) - set(img_paths[EASY]) - set(img_paths[HARD])\n",
    "img_paths[HARD] = temp_img_paths_for_hard\n",
    "img_paths[MEDIUM] = temp_img_paths_for_medium\n",
    "len(img_paths[EASY]), len(img_paths[MEDIUM]),len(img_paths[HARD])"
   ]
  },
  {
   "source": [
    "## Separate and Copy Images by Levels"
   ],
   "cell_type": "markdown",
   "metadata": {}
  },
  {
   "cell_type": "code",
   "execution_count": 247,
   "metadata": {
    "tags": []
   },
   "outputs": [],
   "source": [
    "import shutil\n",
    "\n",
    "LEVELS = ('easy', 'medium', 'hard')\n",
    "target_dir = './data/widerface/val/images_by_level'\n",
    "if not os.path.isdir(target_dir):\n",
    "    for level in LEVELS:\n",
    "        os.makedirs(f'{target_dir}/{level}')\n",
    "\n",
    "for img_level, ori_img_paths in img_paths.items():\n",
    "    for ori_img_path in ori_img_paths:\n",
    "        img_name = ori_img_path.split('/')[-1]\n",
    "        target_img_path = f'{target_dir}/{LEVELS[img_level]}/{img_name}'\n",
    "        shutil.copy(ori_img_path, target_img_path)"
   ]
  }
 ]
}